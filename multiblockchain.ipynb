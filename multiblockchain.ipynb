{
 "cells": [
  {
   "cell_type": "code",
   "execution_count": 2,
   "id": "adjusted-tolerance",
   "metadata": {},
   "outputs": [],
   "source": [
    "import subprocess\n",
    "import json\n",
    "from dotenv import load_dotenv\n",
    "import os\n",
    "\n",
    "# Load and set environment variables\n",
    "load_dotenv()\n",
    "mnemonic=os.getenv(\"mnemonic\")\n"
   ]
  },
  {
   "cell_type": "code",
   "execution_count": 7,
   "id": "executive-berkeley",
   "metadata": {},
   "outputs": [],
   "source": [
    "from constants import *\n",
    "from bit import Key, PrivateKey, PrivateKeyTestnet\n",
    "from bit.network import NetworkAPI\n",
    "from bit import *\n",
    "from web3 import Web3\n",
    "from eth_account import Account \n",
    "from web3.middleware import geth_poa_middleware\n",
    "from web3.gas_strategies.time_based import medium_gas_price_strategy"
   ]
  },
  {
   "cell_type": "code",
   "execution_count": 8,
   "id": "dangerous-report",
   "metadata": {},
   "outputs": [],
   "source": [
    "w3 = Web3(Web3.HTTPProvider(\"http://127.0.0.1.8545\"))"
   ]
  },
  {
   "cell_type": "code",
   "execution_count": 9,
   "id": "mounted-wedding",
   "metadata": {},
   "outputs": [],
   "source": [
    "w3.middleware_onion.inject(geth_poa_middleware, layer=0)"
   ]
  },
  {
   "cell_type": "code",
   "execution_count": 10,
   "id": "miniature-share",
   "metadata": {},
   "outputs": [],
   "source": [
    "w3.eth.setGasPriceStrategy(medium_gas_price_strategy)"
   ]
  },
  {
   "cell_type": "code",
   "execution_count": 11,
   "id": "pharmaceutical-northeast",
   "metadata": {},
   "outputs": [],
   "source": [
    "def derive_wallets(mnemonic, coin, numderive):\n",
    "    command = f'./derive -g --mnemonic=\"{mnemonic}\" --numderive=\"{numderive}\" --coin=\"{coin}\" --format=json'\n",
    "    p = subprocess.Popen(command, stdout=subprocess.PIPE, shell=True)\n",
    "    output, err = p.communicate()\n",
    "    p_status = p.wait()\n",
    "    keys = json.loads(output)\n",
    "    return keys"
   ]
  },
  {
   "cell_type": "code",
   "execution_count": 14,
   "id": "pharmaceutical-companion",
   "metadata": {},
   "outputs": [
    {
     "data": {
      "text/plain": [
       "[{'path': \"m/44'/0'/0'/0/0\",\n",
       "  'address': '1KqrvNsruZwm9PuN3eZRgNSVD33prqwBxP',\n",
       "  'xprv': 'xprvA3yUGFm8NGmh3qGgSDeyYCASCamTjpBL3vo7zGB4rXspfuMx793bUGC62u2HUoRKCCXWARigoWRfK123o5oja7njcsfQhBpzyRBEcNd14Lp',\n",
       "  'xpub': 'xpub6GxpfmJ2CeKzGKM9YFByuL7Akcbx9GuBR9iineagQsQoYhh6egMr24WZt91NykkPfJxmBbcZkT9ecXZVenEqqMQJDAagy3eP43QMcWRRe2t',\n",
       "  'privkey': 'L2qGzKVTaeALmYifbDcLZKXmA555heV55B8vnV1B4NRGS2x12Fco',\n",
       "  'pubkey': '021db8abd4a411989d3330411825f155d1f91c32066b774592cff50a1da82962e5',\n",
       "  'pubkeyhash': 'ceafe6d1cb7c5dc07c9ff6ca17621b55e880fd3f',\n",
       "  'index': 0},\n",
       " {'path': \"m/44'/0'/0'/0/1\",\n",
       "  'address': '18bg19s7hGFXMGvBxnqUSuAxWcL8iP65i8',\n",
       "  'xprv': 'xprvA3yUGFm8NGmh65tcRRxGt6kWWaZZTD5XYai8WkW5GWCDJQtSHsjmbtSr3SNv2ymLkv25KhVYrjyrcWY9eyJbi692mNiQ9G5NsLmd7tiTq3d',\n",
       "  'xpub': 'xpub6GxpfmJ2CeKzJZy5XTVHFEhF4cQ3rfoNuodjK8ugpqjCBDDaqR429gmKtgBW4x8oWyxYGugoV4x5etQP2w3tamEM2VrKcGEwt18AVat2FAT',\n",
       "  'privkey': 'L3oDJ8vYH61iy6CuhKjEAKqE78zNK5TjpxstMEewgxiycCnb8cHL',\n",
       "  'pubkey': '0222a32c24b0db438a432b2542625f02a664c1becefc9532f993eba755c7c0a039',\n",
       "  'pubkeyhash': '535794b8f753e8b1df8027f9863a20a83b8c3ae1',\n",
       "  'index': 1},\n",
       " {'path': \"m/44'/0'/0'/0/2\",\n",
       "  'address': '14inUkMiRxHm8sZZhTE4xRZFkVdNacrGqq',\n",
       "  'xprv': 'xprvA3yUGFm8NGmhA79y5asudcqqD8UqgaNpopgLZ7R9K8mYV3UZndCPmhoDoUWxtLR4y3j1K7Q2UpqFDz1ByruiGJPeKEGfAx4eLmaGV15ac3g',\n",
       "  'xpub': 'xpub6GxpfmJ2CeKzNbESBcQuzknZmAKL636gB3bwMVpksUJXMqoiLAWeKW7heirZxhTfx7eKvCmjhKmMnHzHVDzeWce8AYLikzr1ECeht72oiMP',\n",
       "  'privkey': 'L1RTU2vrnmymKGhd6L4yySuh4hLk4eqTigp7yLbiejLxqh2fR23Q',\n",
       "  'pubkey': '02223361a7e054c2b00f3fb3672c14175faf171a45c7376e87bf6dc716b69e54b5',\n",
       "  'pubkeyhash': '28cf652ed81f6ab1a74fbefae02b909d3c5a33de',\n",
       "  'index': 2}]"
      ]
     },
     "execution_count": 14,
     "metadata": {},
     "output_type": "execute_result"
    }
   ],
   "source": [
    "derive_wallets(mnemonic, 'BTC', 3)"
   ]
  },
  {
   "cell_type": "code",
   "execution_count": 15,
   "id": "finished-dress",
   "metadata": {},
   "outputs": [],
   "source": [
    "coins = {\"eth\", \"btc-test\", \"btc\"}\n",
    "numderive = 3"
   ]
  },
  {
   "cell_type": "code",
   "execution_count": 16,
   "id": "weighted-california",
   "metadata": {},
   "outputs": [],
   "source": [
    "keys = {}\n",
    "for coin in coins:\n",
    "    keys[coin]= derive_wallets(mnemonic, coin, numderive=3)"
   ]
  },
  {
   "cell_type": "code",
   "execution_count": 17,
   "id": "streaming-teens",
   "metadata": {},
   "outputs": [
    {
     "name": "stdout",
     "output_type": "stream",
     "text": [
      "\"0x360fc1deeba53705ff8e2affef3cfdff4c25553619c8b0366434673ed823edaf\"\n",
      "\"cSNLVkn6Bw5GDzAF5ErcnVqKP3oNxGxxJxWPZvsjLdnkmf79wXUm\"\n"
     ]
    }
   ],
   "source": [
    "eth_PrivateKey = keys[\"eth\"][0]['privkey']\n",
    "btc_PrivateKey = keys['btc-test'][0]['privkey']\n",
    "\n",
    "print(json.dumps(eth_PrivateKey, indent=4, sort_keys=True))\n",
    "print(json.dumps(btc_PrivateKey, indent=4, sort_keys=True))"
   ]
  },
  {
   "cell_type": "code",
   "execution_count": 18,
   "id": "composed-december",
   "metadata": {},
   "outputs": [
    {
     "name": "stdout",
     "output_type": "stream",
     "text": [
      "{\n",
      "    \"btc\": [\n",
      "        {\n",
      "            \"address\": \"1KqrvNsruZwm9PuN3eZRgNSVD33prqwBxP\",\n",
      "            \"index\": 0,\n",
      "            \"path\": \"m/44'/0'/0'/0/0\",\n",
      "            \"privkey\": \"L2qGzKVTaeALmYifbDcLZKXmA555heV55B8vnV1B4NRGS2x12Fco\",\n",
      "            \"pubkey\": \"021db8abd4a411989d3330411825f155d1f91c32066b774592cff50a1da82962e5\",\n",
      "            \"pubkeyhash\": \"ceafe6d1cb7c5dc07c9ff6ca17621b55e880fd3f\",\n",
      "            \"xprv\": \"xprvA3yUGFm8NGmh3qGgSDeyYCASCamTjpBL3vo7zGB4rXspfuMx793bUGC62u2HUoRKCCXWARigoWRfK123o5oja7njcsfQhBpzyRBEcNd14Lp\",\n",
      "            \"xpub\": \"xpub6GxpfmJ2CeKzGKM9YFByuL7Akcbx9GuBR9iineagQsQoYhh6egMr24WZt91NykkPfJxmBbcZkT9ecXZVenEqqMQJDAagy3eP43QMcWRRe2t\"\n",
      "        },\n",
      "        {\n",
      "            \"address\": \"18bg19s7hGFXMGvBxnqUSuAxWcL8iP65i8\",\n",
      "            \"index\": 1,\n",
      "            \"path\": \"m/44'/0'/0'/0/1\",\n",
      "            \"privkey\": \"L3oDJ8vYH61iy6CuhKjEAKqE78zNK5TjpxstMEewgxiycCnb8cHL\",\n",
      "            \"pubkey\": \"0222a32c24b0db438a432b2542625f02a664c1becefc9532f993eba755c7c0a039\",\n",
      "            \"pubkeyhash\": \"535794b8f753e8b1df8027f9863a20a83b8c3ae1\",\n",
      "            \"xprv\": \"xprvA3yUGFm8NGmh65tcRRxGt6kWWaZZTD5XYai8WkW5GWCDJQtSHsjmbtSr3SNv2ymLkv25KhVYrjyrcWY9eyJbi692mNiQ9G5NsLmd7tiTq3d\",\n",
      "            \"xpub\": \"xpub6GxpfmJ2CeKzJZy5XTVHFEhF4cQ3rfoNuodjK8ugpqjCBDDaqR429gmKtgBW4x8oWyxYGugoV4x5etQP2w3tamEM2VrKcGEwt18AVat2FAT\"\n",
      "        },\n",
      "        {\n",
      "            \"address\": \"14inUkMiRxHm8sZZhTE4xRZFkVdNacrGqq\",\n",
      "            \"index\": 2,\n",
      "            \"path\": \"m/44'/0'/0'/0/2\",\n",
      "            \"privkey\": \"L1RTU2vrnmymKGhd6L4yySuh4hLk4eqTigp7yLbiejLxqh2fR23Q\",\n",
      "            \"pubkey\": \"02223361a7e054c2b00f3fb3672c14175faf171a45c7376e87bf6dc716b69e54b5\",\n",
      "            \"pubkeyhash\": \"28cf652ed81f6ab1a74fbefae02b909d3c5a33de\",\n",
      "            \"xprv\": \"xprvA3yUGFm8NGmhA79y5asudcqqD8UqgaNpopgLZ7R9K8mYV3UZndCPmhoDoUWxtLR4y3j1K7Q2UpqFDz1ByruiGJPeKEGfAx4eLmaGV15ac3g\",\n",
      "            \"xpub\": \"xpub6GxpfmJ2CeKzNbESBcQuzknZmAKL636gB3bwMVpksUJXMqoiLAWeKW7heirZxhTfx7eKvCmjhKmMnHzHVDzeWce8AYLikzr1ECeht72oiMP\"\n",
      "        }\n",
      "    ],\n",
      "    \"btc-test\": [\n",
      "        {\n",
      "            \"address\": \"mtPBiNx19kJ2tgYtD7KJs61jBMo7yvXVaq\",\n",
      "            \"index\": 0,\n",
      "            \"path\": \"m/44'/1'/0'/0/0\",\n",
      "            \"privkey\": \"cSNLVkn6Bw5GDzAF5ErcnVqKP3oNxGxxJxWPZvsjLdnkmf79wXUm\",\n",
      "            \"pubkey\": \"02c839837f59a5509ffe0cd86c54a588fb4a8bb29ca48700967f189e4420916d91\",\n",
      "            \"pubkeyhash\": \"8d21826b0da57715f1029e10ecc61ef10d536e9b\",\n",
      "            \"xprv\": \"tprv8jk4dTb8CaCg1Sakj4DgWZSTvEi2ynruagk8QJ1oV9jKn1m73iTsERHRrp4RMU8zXK5xmmtzJZ9SrxwVYs1M9SB5AP7b8jFkPkU7QNjFcHM\",\n",
      "            \"xpub\": \"tpubDGS6msdNLwtLtucYchtGuy6aVGDy983p9zLugp46uRXicW1sg7HTQuuJ2wSbV2XjtsWAi8iU4zbzaZ3KszBYEWqb3mCqr2d5R99qL2qGFbx\"\n",
      "        },\n",
      "        {\n",
      "            \"address\": \"mxks7M9hCwKt4f1bNaghbgzBLV4xkmkbo2\",\n",
      "            \"index\": 1,\n",
      "            \"path\": \"m/44'/1'/0'/0/1\",\n",
      "            \"privkey\": \"cRHhR3gqHdJFPES4n6VdmFbnhXBcTqs5i8wAfa6h8a15aXSKEQCY\",\n",
      "            \"pubkey\": \"0277df876557d0f94ea4c9f60a9a61e6f2c1d045df7ea3bf2656fd82c422f474b0\",\n",
      "            \"pubkeyhash\": \"bd1ba2486d2813d6dff7f2cbe74509325d6d7637\",\n",
      "            \"xprv\": \"tprv8jk4dTb8CaCg4VjULkYFAQyqyMZ51ehAhxcVD57JjFod5RQdS7gjsiW9FjxcjmHkmf1eycXnkEJ91v36qWVoHYHSWJ2jJvibHvADXS1uKpY\",\n",
      "            \"xpub\": \"tpubDGS6msdNLwtLwxmGEQCqZpdxYP51Ayt5HGDGVb9c9Xc1uufQ4WWL4D81RrybWwkb9nhokizjAeupstm7WGqYg8MVY7vPTrcztqgyJCigKVh\"\n",
      "        },\n",
      "        {\n",
      "            \"address\": \"mquSCrgwtKtjZh62tQRNUgpmE1acoVEgwm\",\n",
      "            \"index\": 2,\n",
      "            \"path\": \"m/44'/1'/0'/0/2\",\n",
      "            \"privkey\": \"cNo3BZf52Jr4Wcjve9MUZk3gsu53yQriBMSUAodCCy6RgaNnAiTC\",\n",
      "            \"pubkey\": \"025075ec21e26be8c821160074518513f1f71fb17ea56b547c192917540c8e04df\",\n",
      "            \"pubkeyhash\": \"71f1b51a22b15f18d9fdfc3fe9540b6ca5143a2f\",\n",
      "            \"xprv\": \"tprv8jk4dTb8CaCg7NYSyDYPnQktkYkGBoFX3uKUMHQho8YU6hLbBXJMVmwdPCKWHaLnB4j8sjxvEB2HG2FBuCf43hVsdxESUEBMCzTPneaWY4T\",\n",
      "            \"xpub\": \"tpubDGS6msdNLwtLzqaErsCzBpR1KaGCM8SRdCvFdoT1DQLrwBbMov7wgGZVZKbuEjM3fLLvd43vv38c7N5oiaLFWM4EXbvGJS6oG9R1suSAoJX\"\n",
      "        }\n",
      "    ],\n",
      "    \"eth\": [\n",
      "        {\n",
      "            \"address\": \"0x3Cb93b536D14ADa6071A4c72C12Ee0f94C6FDffA\",\n",
      "            \"index\": 0,\n",
      "            \"path\": \"m/44'/60'/0'/0/0\",\n",
      "            \"privkey\": \"0x360fc1deeba53705ff8e2affef3cfdff4c25553619c8b0366434673ed823edaf\",\n",
      "            \"pubkey\": \"036ffcb61d0d567ea50927559f685b7f1da8f667e939398f09f447b3adde88e651\",\n",
      "            \"pubkeyhash\": \"b7ca755f51d659c3499b2eb7b2cd57143ddee776\",\n",
      "            \"xprv\": \"xprvA3e64RDzDAmudwR8PReaRxmEk9qJbosn3SC7cSeNND89RVLq9VHRffQzDpU2hXZeTnyC3q4m1WoUVCKtETFQcmkTQ4yULc2ZVrnhbveQGJj\",\n",
      "            \"xpub\": \"xpub6GdSTvkt3YLCrRVbVTBao6hyJBfo1GbdQf7iQq3yvYf8JHfyh2bgDTjU57t3x3HHMspzcWh1SzjctTGiEPhvAsLi81wzJf3hdiU8wH2Jq4R\"\n",
      "        },\n",
      "        {\n",
      "            \"address\": \"0x8B04DE19feF56eAeDE09055F9617B09048bEBEDF\",\n",
      "            \"index\": 1,\n",
      "            \"path\": \"m/44'/60'/0'/0/1\",\n",
      "            \"privkey\": \"0xf57c7c83a9f22416436b77bc48f9454551404b16b116d36f9ed6becb96766e83\",\n",
      "            \"pubkey\": \"021acaf50c5d1f14d145e311ff9fbca7f75fd734b9858abdd9f1c210a962887746\",\n",
      "            \"pubkeyhash\": \"00111fe78c3b7b0e26333dfea1ff0b51903d7e40\",\n",
      "            \"xprv\": \"xprvA3e64RDzDAmuhBgRj87HFypdCDc7UEW6RPurtKYn3J2Ua17wDBZnTiSPiJLqZmc5hphwYL32f9UoQtGWWe3YNngAgf3Cf86XBuTRW2FKKS2\",\n",
      "            \"xpub\": \"xpub6GdSTvkt3YLCufktq9eHd7mMkFSbshDwncqTghxPbdZTSoT5kit31WksZXiHmzhb2Gy6RUAaxePxRxZLwLtwXNMyNQPkkbZBLHEeeipRYuj\"\n",
      "        },\n",
      "        {\n",
      "            \"address\": \"0x08Ef1E931e6839448C27d44AcDb6a59C20Fe2E04\",\n",
      "            \"index\": 2,\n",
      "            \"path\": \"m/44'/60'/0'/0/2\",\n",
      "            \"privkey\": \"0x5c448697690df3a843dd69f8552e343ebd4b7877ac6bb08a87fdc342592efeb1\",\n",
      "            \"pubkey\": \"03788dfcdf79d8555c98d88278b36c75ee0795bfb07f6212e48118ab030fe913c2\",\n",
      "            \"pubkeyhash\": \"1184715711ac5940e8164a9e7c72202da5bb81c8\",\n",
      "            \"xprv\": \"xprvA3e64RDzDAmuimy6Eb181ff9FHvXLf9SHaozov85KCFWCcRSfgceakXXNUN6Tg9CvtaPhWBcoSR33feRusWzJ1Mz7ujMNAwNaxTGgugQaSe\",\n",
      "            \"xpub\": \"xpub6GdSTvkt3YLCwG3ZLcY8NobsoKm1k7sHeojbcJXgsXnV5QkbDDvu8Yr1DmZ4db6e2hZLgm9poB1rz1gx2ruTm6933FbfUvqPLrB6jBqEv4e\"\n",
      "        }\n",
      "    ]\n",
      "}\n"
     ]
    }
   ],
   "source": [
    "print(json.dumps(keys, indent=4, sort_keys=True))"
   ]
  },
  {
   "cell_type": "code",
   "execution_count": 19,
   "id": "pleased-cabin",
   "metadata": {},
   "outputs": [],
   "source": [
    "# create a function that convert the privkey string in a child key to an account object.\n",
    "def priv_key_to_account(coin,priv_key):\n",
    "    print(coin)\n",
    "    print(priv_key)\n",
    "    if coin == ETH:\n",
    "        return Account.privateKeyToAccount(priv_key)\n",
    "    elif coin == BTCTEST:\n",
    "        return PrivateKeyTestnet(priv_key)"
   ]
  },
  {
   "cell_type": "code",
   "execution_count": 20,
   "id": "external-transfer",
   "metadata": {},
   "outputs": [],
   "source": [
    "def create_tx(coin,account, recipient, amount):\n",
    "    if coin == ETH: \n",
    "        gasEstimate = w3.eth.estimateGas(\n",
    "            {\"from\":eth_acc.address, \"to\":recipient, \"value\": amount}\n",
    "        )\n",
    "        return { \n",
    "            \"from\": eth_acc.address,\n",
    "            \"to\": recipient,\n",
    "            \"value\": amount,\n",
    "            \"gasPrice\": w3.eth.gasPrice,\n",
    "            \"gas\": gasEstimate,\n",
    "            \"nonce\": w3.eth.getTransactionCount(eth_acc.address)\n",
    "        }\n",
    "    \n",
    "    elif coin == BTCTEST:\n",
    "        return PrivateKeyTestnet.prepare_transaction(account.address, [(recipient, amount, BTC)])"
   ]
  },
  {
   "cell_type": "code",
   "execution_count": 21,
   "id": "sonic-generator",
   "metadata": {},
   "outputs": [
    {
     "name": "stdout",
     "output_type": "stream",
     "text": [
      "eth\n",
      "0x360fc1deeba53705ff8e2affef3cfdff4c25553619c8b0366434673ed823edaf\n"
     ]
    }
   ],
   "source": [
    "# create a function to hold Ethereum \n",
    "eth_acc = priv_key_to_account(ETH, derive_wallets(mnemonic, ETH,5)[0]['privkey'])"
   ]
  },
  {
   "cell_type": "code",
   "execution_count": 23,
   "id": "plastic-abuse",
   "metadata": {},
   "outputs": [],
   "source": [
    "def send_txn(coin,account,recipient, amount):\n",
    "    txn = create_tx(coin, account, recipient, amount)\n",
    "    if coin == ETH:\n",
    "        signed_txn = eth_acc.sign_transaction(txn)\n",
    "        result = w3.eth.sendRawTransaction(signed_txn.rawTransaction)\n",
    "        print(result.hex())\n",
    "        return result.hex()\n",
    "    elif coin == BTCTEST:\n",
    "        tx_btctest = create_tx(coin, account, recipient, amount)\n",
    "        signed_txn = account.sign_transaction(txn)\n",
    "        print(signed_txn)\n",
    "        return NetworkAPI.broadcast_tx_testnet(signed_txn)"
   ]
  },
  {
   "cell_type": "code",
   "execution_count": 26,
   "id": "together-algebra",
   "metadata": {},
   "outputs": [
    {
     "name": "stdout",
     "output_type": "stream",
     "text": [
      "btc-test\n",
      "cSNLVkn6Bw5GDzAF5ErcnVqKP3oNxGxxJxWPZvsjLdnkmf79wXUm\n"
     ]
    },
    {
     "data": {
      "text/plain": [
       "'{\"unspents\":[{\"amount\":100000,\"confirmations\":1,\"script\":\"76a9148d21826b0da57715f1029e10ecc61ef10d536e9b88ac\",\"txid\":\"192e24a43b42caaf9b84c3a10feaa47c2f8b249aa3149dc625504de945790dca\",\"txindex\":1,\"type\":\"p2pkh\",\"vsize\":148,\"segwit\":false,\"sequence\":4294967295}],\"outputs\":[[\"mtPBiNx19kJ2tgYtD7KJs61jBMo7yvXVaq\",50000],[\"mtPBiNx19kJ2tgYtD7KJs61jBMo7yvXVaq\",26948]]}'"
      ]
     },
     "execution_count": 26,
     "metadata": {},
     "output_type": "execute_result"
    }
   ],
   "source": [
    "# create BTC transaction\n",
    "btc_acc = priv_key_to_account(BTCTEST,btc_PrivateKey)\n",
    "create_tx(BTCTEST,btc_acc,\"mtPBiNx19kJ2tgYtD7KJs61jBMo7yvXVaq\", 0.0005)"
   ]
  },
  {
   "cell_type": "code",
   "execution_count": 48,
   "id": "designing-lighting",
   "metadata": {},
   "outputs": [
    {
     "ename": "InsufficientFunds",
     "evalue": "Balance 26948 is less than 33052 (including fee).",
     "output_type": "error",
     "traceback": [
      "\u001b[0;31m---------------------------------------------------------------------------\u001b[0m",
      "\u001b[0;31mInsufficientFunds\u001b[0m                         Traceback (most recent call last)",
      "\u001b[0;32m<ipython-input-48-bb958eabaab9>\u001b[0m in \u001b[0;36m<module>\u001b[0;34m\u001b[0m\n\u001b[1;32m      1\u001b[0m \u001b[0;31m# Send BTC transaction\u001b[0m\u001b[0;34m\u001b[0m\u001b[0;34m\u001b[0m\u001b[0;34m\u001b[0m\u001b[0m\n\u001b[0;32m----> 2\u001b[0;31m \u001b[0msend_txn\u001b[0m\u001b[0;34m(\u001b[0m\u001b[0mBTCTEST\u001b[0m\u001b[0;34m,\u001b[0m\u001b[0mbtc_acc\u001b[0m\u001b[0;34m,\u001b[0m\u001b[0;34m\"mxks7M9hCwKt4f1bNaghbgzBLV4xkmkbo2\"\u001b[0m\u001b[0;34m,\u001b[0m \u001b[0;36m0.0001\u001b[0m\u001b[0;34m)\u001b[0m\u001b[0;34m\u001b[0m\u001b[0;34m\u001b[0m\u001b[0m\n\u001b[0m",
      "\u001b[0;32m<ipython-input-23-3a8e3609dd1c>\u001b[0m in \u001b[0;36msend_txn\u001b[0;34m(coin, account, recipient, amount)\u001b[0m\n\u001b[1;32m      1\u001b[0m \u001b[0;32mdef\u001b[0m \u001b[0msend_txn\u001b[0m\u001b[0;34m(\u001b[0m\u001b[0mcoin\u001b[0m\u001b[0;34m,\u001b[0m\u001b[0maccount\u001b[0m\u001b[0;34m,\u001b[0m\u001b[0mrecipient\u001b[0m\u001b[0;34m,\u001b[0m \u001b[0mamount\u001b[0m\u001b[0;34m)\u001b[0m\u001b[0;34m:\u001b[0m\u001b[0;34m\u001b[0m\u001b[0;34m\u001b[0m\u001b[0m\n\u001b[0;32m----> 2\u001b[0;31m     \u001b[0mtxn\u001b[0m \u001b[0;34m=\u001b[0m \u001b[0mcreate_tx\u001b[0m\u001b[0;34m(\u001b[0m\u001b[0mcoin\u001b[0m\u001b[0;34m,\u001b[0m \u001b[0maccount\u001b[0m\u001b[0;34m,\u001b[0m \u001b[0mrecipient\u001b[0m\u001b[0;34m,\u001b[0m \u001b[0mamount\u001b[0m\u001b[0;34m)\u001b[0m\u001b[0;34m\u001b[0m\u001b[0;34m\u001b[0m\u001b[0m\n\u001b[0m\u001b[1;32m      3\u001b[0m     \u001b[0;32mif\u001b[0m \u001b[0mcoin\u001b[0m \u001b[0;34m==\u001b[0m \u001b[0mETH\u001b[0m\u001b[0;34m:\u001b[0m\u001b[0;34m\u001b[0m\u001b[0;34m\u001b[0m\u001b[0m\n\u001b[1;32m      4\u001b[0m         \u001b[0msigned_txn\u001b[0m \u001b[0;34m=\u001b[0m \u001b[0meth_acc\u001b[0m\u001b[0;34m.\u001b[0m\u001b[0msign_transaction\u001b[0m\u001b[0;34m(\u001b[0m\u001b[0mtxn\u001b[0m\u001b[0;34m)\u001b[0m\u001b[0;34m\u001b[0m\u001b[0;34m\u001b[0m\u001b[0m\n\u001b[1;32m      5\u001b[0m         \u001b[0mresult\u001b[0m \u001b[0;34m=\u001b[0m \u001b[0mw3\u001b[0m\u001b[0;34m.\u001b[0m\u001b[0meth\u001b[0m\u001b[0;34m.\u001b[0m\u001b[0msendRawTransaction\u001b[0m\u001b[0;34m(\u001b[0m\u001b[0msigned_txn\u001b[0m\u001b[0;34m.\u001b[0m\u001b[0mrawTransaction\u001b[0m\u001b[0;34m)\u001b[0m\u001b[0;34m\u001b[0m\u001b[0;34m\u001b[0m\u001b[0m\n",
      "\u001b[0;32m<ipython-input-20-0c3065cc3b28>\u001b[0m in \u001b[0;36mcreate_tx\u001b[0;34m(coin, account, recipient, amount)\u001b[0m\n\u001b[1;32m     14\u001b[0m \u001b[0;34m\u001b[0m\u001b[0m\n\u001b[1;32m     15\u001b[0m     \u001b[0;32melif\u001b[0m \u001b[0mcoin\u001b[0m \u001b[0;34m==\u001b[0m \u001b[0mBTCTEST\u001b[0m\u001b[0;34m:\u001b[0m\u001b[0;34m\u001b[0m\u001b[0;34m\u001b[0m\u001b[0m\n\u001b[0;32m---> 16\u001b[0;31m         \u001b[0;32mreturn\u001b[0m \u001b[0mPrivateKeyTestnet\u001b[0m\u001b[0;34m.\u001b[0m\u001b[0mprepare_transaction\u001b[0m\u001b[0;34m(\u001b[0m\u001b[0maccount\u001b[0m\u001b[0;34m.\u001b[0m\u001b[0maddress\u001b[0m\u001b[0;34m,\u001b[0m \u001b[0;34m[\u001b[0m\u001b[0;34m(\u001b[0m\u001b[0mrecipient\u001b[0m\u001b[0;34m,\u001b[0m \u001b[0mamount\u001b[0m\u001b[0;34m,\u001b[0m \u001b[0mBTC\u001b[0m\u001b[0;34m)\u001b[0m\u001b[0;34m]\u001b[0m\u001b[0;34m)\u001b[0m\u001b[0;34m\u001b[0m\u001b[0;34m\u001b[0m\u001b[0m\n\u001b[0m",
      "\u001b[0;32m~/opt/anaconda3/envs/ethereum/lib/python3.7/site-packages/bit/wallet.py\u001b[0m in \u001b[0;36mprepare_transaction\u001b[0;34m(cls, address, outputs, compressed, fee, absolute_fee, leftover, combine, message, unspents, message_is_hex, replace_by_fee)\u001b[0m\n\u001b[1;32m    850\u001b[0m             \u001b[0mversion\u001b[0m\u001b[0;34m=\u001b[0m\u001b[0;34m'test'\u001b[0m\u001b[0;34m,\u001b[0m\u001b[0;34m\u001b[0m\u001b[0;34m\u001b[0m\u001b[0m\n\u001b[1;32m    851\u001b[0m             \u001b[0mmessage_is_hex\u001b[0m\u001b[0;34m=\u001b[0m\u001b[0mmessage_is_hex\u001b[0m\u001b[0;34m,\u001b[0m\u001b[0;34m\u001b[0m\u001b[0;34m\u001b[0m\u001b[0m\n\u001b[0;32m--> 852\u001b[0;31m             \u001b[0mreplace_by_fee\u001b[0m\u001b[0;34m=\u001b[0m\u001b[0mreplace_by_fee\u001b[0m\u001b[0;34m\u001b[0m\u001b[0;34m\u001b[0m\u001b[0m\n\u001b[0m\u001b[1;32m    853\u001b[0m         )\n\u001b[1;32m    854\u001b[0m \u001b[0;34m\u001b[0m\u001b[0m\n",
      "\u001b[0;32m~/opt/anaconda3/envs/ethereum/lib/python3.7/site-packages/bit/transaction.py\u001b[0m in \u001b[0;36msanitize_tx_data\u001b[0;34m(unspents, outputs, fee, leftover, combine, message, compressed, absolute_fee, min_change, version, message_is_hex, replace_by_fee)\u001b[0m\n\u001b[1;32m    432\u001b[0m         \u001b[0mabsolute_fee\u001b[0m\u001b[0;34m=\u001b[0m\u001b[0mabsolute_fee\u001b[0m\u001b[0;34m,\u001b[0m\u001b[0;34m\u001b[0m\u001b[0;34m\u001b[0m\u001b[0m\n\u001b[1;32m    433\u001b[0m         \u001b[0mconsolidate\u001b[0m\u001b[0;34m=\u001b[0m\u001b[0mcombine\u001b[0m\u001b[0;34m,\u001b[0m\u001b[0;34m\u001b[0m\u001b[0;34m\u001b[0m\u001b[0m\n\u001b[0;32m--> 434\u001b[0;31m         \u001b[0munspents\u001b[0m\u001b[0;34m=\u001b[0m\u001b[0munspents\u001b[0m\u001b[0;34m,\u001b[0m\u001b[0;34m\u001b[0m\u001b[0;34m\u001b[0m\u001b[0m\n\u001b[0m\u001b[1;32m    435\u001b[0m     )\n\u001b[1;32m    436\u001b[0m \u001b[0;34m\u001b[0m\u001b[0m\n",
      "\u001b[0;32m~/opt/anaconda3/envs/ethereum/lib/python3.7/site-packages/bit/transaction.py\u001b[0m in \u001b[0;36mselect_coins\u001b[0;34m(target, fee, output_size, min_change, absolute_fee, consolidate, unspents)\u001b[0m\n\u001b[1;32m    326\u001b[0m             raise InsufficientFunds(\n\u001b[1;32m    327\u001b[0m                 \u001b[0;34m'Balance {} is less than {} (including '\u001b[0m\u001b[0;34m\u001b[0m\u001b[0;34m\u001b[0m\u001b[0m\n\u001b[0;32m--> 328\u001b[0;31m                 \u001b[0;34m'fee).'\u001b[0m\u001b[0;34m.\u001b[0m\u001b[0mformat\u001b[0m\u001b[0;34m(\u001b[0m\u001b[0msum\u001b[0m\u001b[0;34m(\u001b[0m\u001b[0mu\u001b[0m\u001b[0;34m.\u001b[0m\u001b[0mamount\u001b[0m \u001b[0;32mfor\u001b[0m \u001b[0mu\u001b[0m \u001b[0;32min\u001b[0m \u001b[0mselected_coins\u001b[0m\u001b[0;34m)\u001b[0m\u001b[0;34m,\u001b[0m \u001b[0mtarget\u001b[0m \u001b[0;34m+\u001b[0m \u001b[0mmin_change\u001b[0m \u001b[0;34m+\u001b[0m \u001b[0mestimated_fee\u001b[0m\u001b[0;34m)\u001b[0m\u001b[0;34m\u001b[0m\u001b[0;34m\u001b[0m\u001b[0m\n\u001b[0m\u001b[1;32m    329\u001b[0m             )\n\u001b[1;32m    330\u001b[0m \u001b[0;34m\u001b[0m\u001b[0m\n",
      "\u001b[0;31mInsufficientFunds\u001b[0m: Balance 26948 is less than 33052 (including fee)."
     ]
    }
   ],
   "source": [
    "# Send BTC transaction\n",
    "send_txn(BTCTEST,btc_acc,\"mxks7M9hCwKt4f1bNaghbgzBLV4xkmkbo2\", 0.0001)"
   ]
  },
  {
   "cell_type": "code",
   "execution_count": 49,
   "id": "italian-member",
   "metadata": {},
   "outputs": [],
   "source": [
    "w3 = Web3(Web3.HTTPProvider(\"http://127.0.0.1:8545/0x360fc1deeba53705ff8e2affef3cfdff4c25553619c8b0366434673ed823edaf\"))\n"
   ]
  },
  {
   "cell_type": "code",
   "execution_count": 50,
   "id": "raising-council",
   "metadata": {},
   "outputs": [
    {
     "data": {
      "text/plain": [
       "False"
      ]
     },
     "execution_count": 50,
     "metadata": {},
     "output_type": "execute_result"
    }
   ],
   "source": [
    "w3.isConnected()"
   ]
  },
  {
   "cell_type": "code",
   "execution_count": null,
   "id": "billion-indonesian",
   "metadata": {},
   "outputs": [],
   "source": [
    "create_tx(ETH,eth_acc,\"0x3Cb93b536D14ADa6071A4c72C12Ee0f94C6FDffA\", 2000)\n",
    "send_txn(ETH, eth_acc,\"0x8B04DE19feF56eAeDE09055F9617B09048bEBEDF\", 2000)"
   ]
  },
  {
   "cell_type": "code",
   "execution_count": null,
   "id": "stupid-quarterly",
   "metadata": {},
   "outputs": [],
   "source": []
  }
 ],
 "metadata": {
  "kernelspec": {
   "display_name": "Python [conda env:ethereum]",
   "language": "python",
   "name": "conda-env-ethereum-py"
  },
  "language_info": {
   "codemirror_mode": {
    "name": "ipython",
    "version": 3
   },
   "file_extension": ".py",
   "mimetype": "text/x-python",
   "name": "python",
   "nbconvert_exporter": "python",
   "pygments_lexer": "ipython3",
   "version": "3.7.9"
  }
 },
 "nbformat": 4,
 "nbformat_minor": 5
}
